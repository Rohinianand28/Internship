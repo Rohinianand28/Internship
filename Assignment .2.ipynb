{
 "cells": [
  {
   "cell_type": "code",
   "execution_count": 1,
   "id": "2bf92de5",
   "metadata": {
    "scrolled": true
   },
   "outputs": [
    {
     "name": "stdout",
     "output_type": "stream",
     "text": [
      "Requirement already satisfied: selenium in c:\\programdata\\anaconda3\\lib\\site-packages (4.9.0)\n",
      "Requirement already satisfied: urllib3[socks]~=1.26 in c:\\programdata\\anaconda3\\lib\\site-packages (from selenium) (1.26.14)\n",
      "Requirement already satisfied: trio-websocket~=0.9 in c:\\programdata\\anaconda3\\lib\\site-packages (from selenium) (0.10.2)\n",
      "Requirement already satisfied: trio~=0.17 in c:\\programdata\\anaconda3\\lib\\site-packages (from selenium) (0.22.0)\n",
      "Requirement already satisfied: certifi>=2021.10.8 in c:\\programdata\\anaconda3\\lib\\site-packages (from selenium) (2022.12.7)\n",
      "Requirement already satisfied: outcome in c:\\programdata\\anaconda3\\lib\\site-packages (from trio~=0.17->selenium) (1.2.0)\n",
      "Requirement already satisfied: sniffio in c:\\programdata\\anaconda3\\lib\\site-packages (from trio~=0.17->selenium) (1.2.0)\n",
      "Requirement already satisfied: attrs>=19.2.0 in c:\\programdata\\anaconda3\\lib\\site-packages (from trio~=0.17->selenium) (22.1.0)\n",
      "Requirement already satisfied: idna in c:\\programdata\\anaconda3\\lib\\site-packages (from trio~=0.17->selenium) (3.4)\n",
      "Requirement already satisfied: cffi>=1.14 in c:\\programdata\\anaconda3\\lib\\site-packages (from trio~=0.17->selenium) (1.15.1)\n",
      "Requirement already satisfied: async-generator>=1.9 in c:\\programdata\\anaconda3\\lib\\site-packages (from trio~=0.17->selenium) (1.10)\n",
      "Requirement already satisfied: sortedcontainers in c:\\programdata\\anaconda3\\lib\\site-packages (from trio~=0.17->selenium) (2.4.0)\n",
      "Requirement already satisfied: exceptiongroup>=1.0.0rc9 in c:\\programdata\\anaconda3\\lib\\site-packages (from trio~=0.17->selenium) (1.1.1)\n",
      "Requirement already satisfied: wsproto>=0.14 in c:\\programdata\\anaconda3\\lib\\site-packages (from trio-websocket~=0.9->selenium) (1.2.0)\n",
      "Requirement already satisfied: PySocks!=1.5.7,<2.0,>=1.5.6 in c:\\programdata\\anaconda3\\lib\\site-packages (from urllib3[socks]~=1.26->selenium) (1.7.1)\n",
      "Requirement already satisfied: pycparser in c:\\programdata\\anaconda3\\lib\\site-packages (from cffi>=1.14->trio~=0.17->selenium) (2.21)\n",
      "Requirement already satisfied: h11<1,>=0.9.0 in c:\\programdata\\anaconda3\\lib\\site-packages (from wsproto>=0.14->trio-websocket~=0.9->selenium) (0.14.0)\n"
     ]
    }
   ],
   "source": [
    "!pip install selenium"
   ]
  },
  {
   "cell_type": "code",
   "execution_count": 4,
   "id": "6eae1a4d",
   "metadata": {},
   "outputs": [],
   "source": [
    "import selenium\n",
    "import pandas as pd\n",
    "from selenium import webdriver\n",
    "import warnings\n",
    "warnings.filterwarnings('ignore')\n",
    "from selenium.webdriver.common.by import By\n",
    "import time"
   ]
  },
  {
   "cell_type": "code",
   "execution_count": null,
   "id": "815c16aa",
   "metadata": {},
   "outputs": [],
   "source": [
    "# Q1"
   ]
  },
  {
   "cell_type": "code",
   "execution_count": 7,
   "id": "d3101f15",
   "metadata": {},
   "outputs": [],
   "source": [
    "# First Connect to the driver\n",
    "driver=webdriver.Chrome(r\"C:\\Users\\Windows\\Desktop\\New folder\\chromedriver.exe\")"
   ]
  },
  {
   "cell_type": "code",
   "execution_count": 9,
   "id": "0840256c",
   "metadata": {},
   "outputs": [],
   "source": [
    "# Opening the naukri page on automated chrome browser\n",
    "driver.get(\"http://www.naukri.com/\")"
   ]
  },
  {
   "cell_type": "code",
   "execution_count": 15,
   "id": "264ccdbd",
   "metadata": {},
   "outputs": [],
   "source": [
    "# Entering designation and Location as required in the question number 1\n",
    "\n",
    "designation=driver.find_element(By.CLASS_NAME,\"suggestor-input \")\n",
    "designation.send_keys('Data Analyst')"
   ]
  },
  {
   "cell_type": "code",
   "execution_count": 16,
   "id": "560ebc59",
   "metadata": {},
   "outputs": [],
   "source": [
    "location=driver.find_element(By.XPATH,\"/html/body/div[1]/div[6]/div/div/div[5]/div/div/div/div[1]/div/input\")\n",
    "location.send_keys('Bangalore')"
   ]
  },
  {
   "cell_type": "code",
   "execution_count": 17,
   "id": "fda9c07f",
   "metadata": {},
   "outputs": [],
   "source": [
    "search=driver.find_element(By.CLASS_NAME,\"qsbSubmit\")\n",
    "search.click()"
   ]
  },
  {
   "cell_type": "code",
   "execution_count": 18,
   "id": "9f0c8d32",
   "metadata": {},
   "outputs": [],
   "source": [
    "job_title=[]\n",
    "job_location=[]\n",
    "company_name=[]\n",
    "experience_required=[]"
   ]
  },
  {
   "cell_type": "code",
   "execution_count": 19,
   "id": "91a5aae2",
   "metadata": {},
   "outputs": [],
   "source": [
    "#scraping job title from the given page\n",
    "title_tags=driver.find_elements(By.XPATH,'//a[@class=\"title ellipsis\"]')\n",
    "for i in title_tags[0:10]:\n",
    "    title=i.text\n",
    "    job_title.append(title)\n",
    "\n",
    "#scraping job location from the given page \n",
    "location_tags=driver.find_elements(By.XPATH,'//span[@class=\"ellipsis fleft locWdth\"]')\n",
    "for i in location_tags[0:10]:\n",
    "    location=i.text\n",
    "    job_location.append(location)\n",
    "    \n",
    "#scraping company name from the given page\n",
    "companyname_tags=driver.find_elements(By.XPATH,'//a[@class=\"subTitle ellipsis fleft\"]')\n",
    "for i in companyname_tags[0:10]:\n",
    "    companyname=i.text\n",
    "    company_name.append(companyname)\n",
    "\n",
    "#scraping job Experience from the given page\n",
    "experience_tags=driver.find_elements(By.XPATH,'//span[@class=\"ellipsis fleft expwdth\"]')\n",
    "for i in experience_tags[0:10]:\n",
    "    experience=i.text\n",
    "    experience_required.append(experience)\n",
    "    \n",
    "    "
   ]
  },
  {
   "cell_type": "code",
   "execution_count": 20,
   "id": "0cc42d59",
   "metadata": {},
   "outputs": [
    {
     "name": "stdout",
     "output_type": "stream",
     "text": [
      "10 10 10 10\n"
     ]
    }
   ],
   "source": [
    "#Checking the Lenght\n",
    "print(len(job_title),len(job_location),len(company_name),len(experience_required))"
   ]
  },
  {
   "cell_type": "code",
   "execution_count": 21,
   "id": "1e58dadd",
   "metadata": {},
   "outputs": [
    {
     "data": {
      "text/html": [
       "<div>\n",
       "<style scoped>\n",
       "    .dataframe tbody tr th:only-of-type {\n",
       "        vertical-align: middle;\n",
       "    }\n",
       "\n",
       "    .dataframe tbody tr th {\n",
       "        vertical-align: top;\n",
       "    }\n",
       "\n",
       "    .dataframe thead th {\n",
       "        text-align: right;\n",
       "    }\n",
       "</style>\n",
       "<table border=\"1\" class=\"dataframe\">\n",
       "  <thead>\n",
       "    <tr style=\"text-align: right;\">\n",
       "      <th></th>\n",
       "      <th>Title</th>\n",
       "      <th>Location</th>\n",
       "      <th>Comapany Name</th>\n",
       "      <th>Experience</th>\n",
       "    </tr>\n",
       "  </thead>\n",
       "  <tbody>\n",
       "    <tr>\n",
       "      <th>0</th>\n",
       "      <td>Data Analyst</td>\n",
       "      <td>Bangalore/Bengaluru</td>\n",
       "      <td>ANZ</td>\n",
       "      <td>6-9 Yrs</td>\n",
       "    </tr>\n",
       "    <tr>\n",
       "      <th>1</th>\n",
       "      <td>Data Analyst</td>\n",
       "      <td>Bangalore/Bengaluru</td>\n",
       "      <td>ANZ</td>\n",
       "      <td>6-10 Yrs</td>\n",
       "    </tr>\n",
       "    <tr>\n",
       "      <th>2</th>\n",
       "      <td>Data Analyst - IIT/BITS/Startups</td>\n",
       "      <td>Bangalore/Bengaluru</td>\n",
       "      <td>AVE Promagne</td>\n",
       "      <td>1-5 Yrs</td>\n",
       "    </tr>\n",
       "    <tr>\n",
       "      <th>3</th>\n",
       "      <td>Data Analyst - FinTech</td>\n",
       "      <td>Bangalore/Bengaluru, Mumbai, Hyderabad/Secunde...</td>\n",
       "      <td>Primo Hiring</td>\n",
       "      <td>1-2 Yrs</td>\n",
       "    </tr>\n",
       "    <tr>\n",
       "      <th>4</th>\n",
       "      <td>Data Analyst - FinTech</td>\n",
       "      <td>Bangalore/Bengaluru, Kolkata, Mumbai, Hyderaba...</td>\n",
       "      <td>Primo Hiring</td>\n",
       "      <td>1-2 Yrs</td>\n",
       "    </tr>\n",
       "    <tr>\n",
       "      <th>5</th>\n",
       "      <td>Data Analyst - FinTech</td>\n",
       "      <td>Bangalore/Bengaluru, Kolkata, Mumbai, Hyderaba...</td>\n",
       "      <td>Primo Hiring</td>\n",
       "      <td>1-2 Yrs</td>\n",
       "    </tr>\n",
       "    <tr>\n",
       "      <th>6</th>\n",
       "      <td>Data Analyst - IIT/BITS/Startups</td>\n",
       "      <td>Bangalore/Bengaluru</td>\n",
       "      <td>AVE Promagne</td>\n",
       "      <td>1-5 Yrs</td>\n",
       "    </tr>\n",
       "    <tr>\n",
       "      <th>7</th>\n",
       "      <td>Data Analyst</td>\n",
       "      <td>Bangalore/Bengaluru</td>\n",
       "      <td>Siemens</td>\n",
       "      <td>4-6 Yrs</td>\n",
       "    </tr>\n",
       "    <tr>\n",
       "      <th>8</th>\n",
       "      <td>Banking Data Analyst</td>\n",
       "      <td>Bangalore/Bengaluru, Hyderabad/Secunderabad, G...</td>\n",
       "      <td>Coforge</td>\n",
       "      <td>5-10 Yrs</td>\n",
       "    </tr>\n",
       "    <tr>\n",
       "      <th>9</th>\n",
       "      <td>Data Analyst</td>\n",
       "      <td>Bangalore/Bengaluru</td>\n",
       "      <td>Dpdzero</td>\n",
       "      <td>1-3 Yrs</td>\n",
       "    </tr>\n",
       "  </tbody>\n",
       "</table>\n",
       "</div>"
      ],
      "text/plain": [
       "                              Title  \\\n",
       "0                      Data Analyst   \n",
       "1                      Data Analyst   \n",
       "2  Data Analyst - IIT/BITS/Startups   \n",
       "3            Data Analyst - FinTech   \n",
       "4            Data Analyst - FinTech   \n",
       "5            Data Analyst - FinTech   \n",
       "6  Data Analyst - IIT/BITS/Startups   \n",
       "7                      Data Analyst   \n",
       "8              Banking Data Analyst   \n",
       "9                      Data Analyst   \n",
       "\n",
       "                                            Location Comapany Name Experience  \n",
       "0                                Bangalore/Bengaluru           ANZ    6-9 Yrs  \n",
       "1                                Bangalore/Bengaluru           ANZ   6-10 Yrs  \n",
       "2                                Bangalore/Bengaluru  AVE Promagne    1-5 Yrs  \n",
       "3  Bangalore/Bengaluru, Mumbai, Hyderabad/Secunde...  Primo Hiring    1-2 Yrs  \n",
       "4  Bangalore/Bengaluru, Kolkata, Mumbai, Hyderaba...  Primo Hiring    1-2 Yrs  \n",
       "5  Bangalore/Bengaluru, Kolkata, Mumbai, Hyderaba...  Primo Hiring    1-2 Yrs  \n",
       "6                                Bangalore/Bengaluru  AVE Promagne    1-5 Yrs  \n",
       "7                                Bangalore/Bengaluru       Siemens    4-6 Yrs  \n",
       "8  Bangalore/Bengaluru, Hyderabad/Secunderabad, G...       Coforge   5-10 Yrs  \n",
       "9                                Bangalore/Bengaluru       Dpdzero    1-3 Yrs  "
      ]
     },
     "execution_count": 21,
     "metadata": {},
     "output_type": "execute_result"
    }
   ],
   "source": [
    "#Creating the Data Frame.\n",
    "data_frame1=pd.DataFrame({'Title':job_title, 'Location':job_location, 'Comapany Name':company_name, 'Experience':experience_required})\n",
    "data_frame1"
   ]
  },
  {
   "cell_type": "code",
   "execution_count": null,
   "id": "8cbc15f1",
   "metadata": {},
   "outputs": [],
   "source": [
    "#Q2\n",
    "\n",
    "#Driver is already connected in the Q1, so not connecting again in Q2.\n",
    "#Already naukri page is opend in automated chrome browser in Q1 so avoiding the same step in Q2."
   ]
  },
  {
   "cell_type": "code",
   "execution_count": 28,
   "id": "42b99620",
   "metadata": {},
   "outputs": [],
   "source": [
    "# Entering designation and Location as required in the question number 2\n",
    "\n",
    "designation_1=driver.find_element(By.CLASS_NAME,\"suggestor-input \")\n",
    "designation_1.send_keys('Data Scientist')"
   ]
  },
  {
   "cell_type": "code",
   "execution_count": 29,
   "id": "4f14f78b",
   "metadata": {},
   "outputs": [],
   "source": [
    "location_1=driver.find_element(By.XPATH,\"/html/body/div[1]/div[6]/div/div/div[5]/div/div/div/div[1]/div/input\")\n",
    "location_1.send_keys('Bangalore')"
   ]
  },
  {
   "cell_type": "code",
   "execution_count": 30,
   "id": "c035566b",
   "metadata": {},
   "outputs": [],
   "source": [
    "search=driver.find_element(By.CLASS_NAME,\"qsbSubmit\")\n",
    "search.click()"
   ]
  },
  {
   "cell_type": "code",
   "execution_count": 31,
   "id": "564eefc8",
   "metadata": {},
   "outputs": [],
   "source": [
    "#Creating empty lists\n",
    "job_title_1=[]\n",
    "job_location_1=[]\n",
    "company_name_1=[]"
   ]
  },
  {
   "cell_type": "code",
   "execution_count": 32,
   "id": "1d3f559c",
   "metadata": {},
   "outputs": [],
   "source": [
    "#scraping job title from the given page\n",
    "title_tags_1=driver.find_elements(By.XPATH,'//a[@class=\"title ellipsis\"]')\n",
    "for i in title_tags_1[0:10]:\n",
    "    titles=i.text\n",
    "    job_title_1.append(titles)\n",
    "\n",
    "#scraping job location from the given page \n",
    "location_tags_1=driver.find_elements(By.XPATH,'//span[@class=\"ellipsis fleft locWdth\"]')\n",
    "for i in location_tags_1[0:10]:\n",
    "    locations=i.text\n",
    "    job_location_1.append(locations)\n",
    "    \n",
    "#scraping company name from the given page\n",
    "companyname_tags_1=driver.find_elements(By.XPATH,'//a[@class=\"subTitle ellipsis fleft\"]')\n",
    "for i in companyname_tags_1[0:10]:\n",
    "    companynames=i.text\n",
    "    company_name_1.append(companynames)\n",
    "\n",
    "    "
   ]
  },
  {
   "cell_type": "code",
   "execution_count": 33,
   "id": "b1d6c7aa",
   "metadata": {},
   "outputs": [
    {
     "name": "stdout",
     "output_type": "stream",
     "text": [
      "10 10 10\n"
     ]
    }
   ],
   "source": [
    "#Checking the Lenght\n",
    "print(len(job_title_1),len(job_location_1),len(company_name_1))"
   ]
  },
  {
   "cell_type": "code",
   "execution_count": 34,
   "id": "bcda5fb8",
   "metadata": {},
   "outputs": [
    {
     "data": {
      "text/html": [
       "<div>\n",
       "<style scoped>\n",
       "    .dataframe tbody tr th:only-of-type {\n",
       "        vertical-align: middle;\n",
       "    }\n",
       "\n",
       "    .dataframe tbody tr th {\n",
       "        vertical-align: top;\n",
       "    }\n",
       "\n",
       "    .dataframe thead th {\n",
       "        text-align: right;\n",
       "    }\n",
       "</style>\n",
       "<table border=\"1\" class=\"dataframe\">\n",
       "  <thead>\n",
       "    <tr style=\"text-align: right;\">\n",
       "      <th></th>\n",
       "      <th>Title</th>\n",
       "      <th>Location</th>\n",
       "      <th>Comapany Name</th>\n",
       "    </tr>\n",
       "  </thead>\n",
       "  <tbody>\n",
       "    <tr>\n",
       "      <th>0</th>\n",
       "      <td>Data Science Specialist</td>\n",
       "      <td>Bangalore/Bengaluru, Kolkata, Mumbai, Hyderaba...</td>\n",
       "      <td>Accenture</td>\n",
       "    </tr>\n",
       "    <tr>\n",
       "      <th>1</th>\n",
       "      <td>Data Scientist_NLP</td>\n",
       "      <td>Bangalore/Bengaluru, Mumbai, Pune, Chennai, Gu...</td>\n",
       "      <td>Fractal Analytics</td>\n",
       "    </tr>\n",
       "    <tr>\n",
       "      <th>2</th>\n",
       "      <td>Machine Learning (AI) Architect</td>\n",
       "      <td>Bangalore/Bengaluru, Kolkata, Mumbai, New Delh...</td>\n",
       "      <td>Persistent</td>\n",
       "    </tr>\n",
       "    <tr>\n",
       "      <th>3</th>\n",
       "      <td>Data Science Analyst</td>\n",
       "      <td>Bangalore/Bengaluru</td>\n",
       "      <td>Accenture</td>\n",
       "    </tr>\n",
       "    <tr>\n",
       "      <th>4</th>\n",
       "      <td>Data Scientist</td>\n",
       "      <td>Bangalore/Bengaluru</td>\n",
       "      <td>IBM</td>\n",
       "    </tr>\n",
       "    <tr>\n",
       "      <th>5</th>\n",
       "      <td>Data Scientist- Bangalore</td>\n",
       "      <td>Bangalore/Bengaluru</td>\n",
       "      <td>Trigent Software</td>\n",
       "    </tr>\n",
       "    <tr>\n",
       "      <th>6</th>\n",
       "      <td>Data Science Analyst - Data Science</td>\n",
       "      <td>Bangalore/Bengaluru</td>\n",
       "      <td>Accenture</td>\n",
       "    </tr>\n",
       "    <tr>\n",
       "      <th>7</th>\n",
       "      <td>Data Science Analyst Data Science</td>\n",
       "      <td>Bangalore/Bengaluru</td>\n",
       "      <td>Accenture</td>\n",
       "    </tr>\n",
       "    <tr>\n",
       "      <th>8</th>\n",
       "      <td>Analytics Specialist - Artificial Intelligence...</td>\n",
       "      <td>Bangalore/Bengaluru</td>\n",
       "      <td>Accenture</td>\n",
       "    </tr>\n",
       "    <tr>\n",
       "      <th>9</th>\n",
       "      <td>Senior Data Scientist</td>\n",
       "      <td>Bangalore/Bengaluru</td>\n",
       "      <td>Walmart</td>\n",
       "    </tr>\n",
       "  </tbody>\n",
       "</table>\n",
       "</div>"
      ],
      "text/plain": [
       "                                               Title  \\\n",
       "0                            Data Science Specialist   \n",
       "1                                 Data Scientist_NLP   \n",
       "2                    Machine Learning (AI) Architect   \n",
       "3                               Data Science Analyst   \n",
       "4                                     Data Scientist   \n",
       "5                          Data Scientist- Bangalore   \n",
       "6                Data Science Analyst - Data Science   \n",
       "7                  Data Science Analyst Data Science   \n",
       "8  Analytics Specialist - Artificial Intelligence...   \n",
       "9                              Senior Data Scientist   \n",
       "\n",
       "                                            Location      Comapany Name  \n",
       "0  Bangalore/Bengaluru, Kolkata, Mumbai, Hyderaba...          Accenture  \n",
       "1  Bangalore/Bengaluru, Mumbai, Pune, Chennai, Gu...  Fractal Analytics  \n",
       "2  Bangalore/Bengaluru, Kolkata, Mumbai, New Delh...         Persistent  \n",
       "3                                Bangalore/Bengaluru          Accenture  \n",
       "4                                Bangalore/Bengaluru                IBM  \n",
       "5                                Bangalore/Bengaluru   Trigent Software  \n",
       "6                                Bangalore/Bengaluru          Accenture  \n",
       "7                                Bangalore/Bengaluru          Accenture  \n",
       "8                                Bangalore/Bengaluru          Accenture  \n",
       "9                                Bangalore/Bengaluru            Walmart  "
      ]
     },
     "execution_count": 34,
     "metadata": {},
     "output_type": "execute_result"
    }
   ],
   "source": [
    "#Creating the Data Frame.\n",
    "data_frame2=pd.DataFrame({'Title':job_title_1, 'Location':job_location_1, 'Comapany Name':company_name_1})\n",
    "data_frame2"
   ]
  },
  {
   "cell_type": "code",
   "execution_count": null,
   "id": "d56972ec",
   "metadata": {},
   "outputs": [],
   "source": [
    "#Q3. "
   ]
  },
  {
   "cell_type": "code",
   "execution_count": 35,
   "id": "34ed0cfa",
   "metadata": {},
   "outputs": [],
   "source": [
    "# First Connect to the driver\n",
    "driver=webdriver.Chrome(r\"C:\\Users\\Windows\\Desktop\\New folder\\chromedriver.exe\")"
   ]
  },
  {
   "cell_type": "code",
   "execution_count": 37,
   "id": "e3e4180b",
   "metadata": {},
   "outputs": [],
   "source": [
    "# Opening the naukri page on automated chrome browser\n",
    "driver.get(\"http://www.naukri.com/\")"
   ]
  },
  {
   "cell_type": "code",
   "execution_count": 38,
   "id": "21576efc",
   "metadata": {},
   "outputs": [],
   "source": [
    "# Entering designation as required in the question number 3\n",
    "designation_2=driver.find_element(By.CLASS_NAME,\"suggestor-input \")\n",
    "designation_2.send_keys('Data Scientist')"
   ]
  },
  {
   "cell_type": "code",
   "execution_count": 40,
   "id": "8a5df116",
   "metadata": {},
   "outputs": [],
   "source": [
    "#Click search\n",
    "search=driver.find_element(By.CLASS_NAME,\"qsbSubmit\")\n",
    "search.click()"
   ]
  },
  {
   "cell_type": "code",
   "execution_count": 41,
   "id": "f15cbc0a",
   "metadata": {},
   "outputs": [],
   "source": [
    "#apply the location filter by checking the respective box\n",
    "location_filter=driver.find_element(By.XPATH,\"/html/body/div[1]/div[4]/div/div/section[1]/div[2]/div[5]/div[2]/div[2]/label/p/span[1]\")\n",
    "location_filter.click()"
   ]
  },
  {
   "cell_type": "code",
   "execution_count": 42,
   "id": "127456d1",
   "metadata": {},
   "outputs": [],
   "source": [
    "#apply the salary filter by checking the respective box\n",
    "salary_filter=driver.find_element(By.XPATH,\"/html/body/div[1]/div[4]/div/div/section[1]/div[2]/div[6]/div[2]/div[2]/label/p/span[1]\")\n",
    "salary_filter.click()"
   ]
  },
  {
   "cell_type": "code",
   "execution_count": 44,
   "id": "d8e8cf02",
   "metadata": {},
   "outputs": [],
   "source": [
    "#Lets create empty list\n",
    "job_title_2=[]\n",
    "job_location_2=[]\n",
    "company_name_2=[]\n",
    "experience_required_2=[]"
   ]
  },
  {
   "cell_type": "code",
   "execution_count": 46,
   "id": "6aac2f03",
   "metadata": {},
   "outputs": [],
   "source": [
    "#scraping job title from the given page\n",
    "title_tags_2=driver.find_elements(By.XPATH,'//a[@class=\"title ellipsis\"]')\n",
    "for i in title_tags_2[0:10]:\n",
    "    title_2=i.text\n",
    "    job_title_2.append(title_2)\n",
    "\n",
    "#scraping job location from the given page \n",
    "location_tags_2=driver.find_elements(By.XPATH,'//span[@class=\"ellipsis fleft locWdth\"]')\n",
    "for i in location_tags_2[0:10]:\n",
    "    location_2=i.text\n",
    "    job_location_2.append(location_2)\n",
    "    \n",
    "#scraping company name from the given page\n",
    "companyname_tags_2=driver.find_elements(By.XPATH,'//a[@class=\"subTitle ellipsis fleft\"]')\n",
    "for i in companyname_tags_2[0:10]:\n",
    "    companyname_2=i.text\n",
    "    company_name_2.append(companyname_2)\n",
    "\n",
    "#scraping job Experience from the given page\n",
    "experience_tags_2=driver.find_elements(By.XPATH,'//div[@class=\"ellipsis job-description\"]')\n",
    "for i in experience_tags_2[0:10]:\n",
    "    experience_2=i.text\n",
    "    experience_required_2.append(experience_2)\n"
   ]
  },
  {
   "cell_type": "code",
   "execution_count": 47,
   "id": "7744c020",
   "metadata": {},
   "outputs": [
    {
     "name": "stdout",
     "output_type": "stream",
     "text": [
      "10 10 10 10\n"
     ]
    }
   ],
   "source": [
    "#Checking the Lenght\n",
    "print(len(job_title_2),len(job_location_2),len(company_name_2),len(experience_required_2))"
   ]
  },
  {
   "cell_type": "code",
   "execution_count": 48,
   "id": "30117fc1",
   "metadata": {},
   "outputs": [
    {
     "data": {
      "text/html": [
       "<div>\n",
       "<style scoped>\n",
       "    .dataframe tbody tr th:only-of-type {\n",
       "        vertical-align: middle;\n",
       "    }\n",
       "\n",
       "    .dataframe tbody tr th {\n",
       "        vertical-align: top;\n",
       "    }\n",
       "\n",
       "    .dataframe thead th {\n",
       "        text-align: right;\n",
       "    }\n",
       "</style>\n",
       "<table border=\"1\" class=\"dataframe\">\n",
       "  <thead>\n",
       "    <tr style=\"text-align: right;\">\n",
       "      <th></th>\n",
       "      <th>Title</th>\n",
       "      <th>Location</th>\n",
       "      <th>Comapany Name</th>\n",
       "      <th>Experience</th>\n",
       "    </tr>\n",
       "  </thead>\n",
       "  <tbody>\n",
       "    <tr>\n",
       "      <th>0</th>\n",
       "      <td>Junior Data Scientist</td>\n",
       "      <td>Kolkata, Mumbai, New Delhi, Hyderabad/Secunder...</td>\n",
       "      <td>Analytos</td>\n",
       "      <td>Experience : 0 to 2 years. Experience / Strong...</td>\n",
       "    </tr>\n",
       "    <tr>\n",
       "      <th>1</th>\n",
       "      <td>Data Scientist</td>\n",
       "      <td>Gurgaon/Gurugram, Bangalore/Bengaluru</td>\n",
       "      <td>Blackbuck</td>\n",
       "      <td>Some of the problem areas are Insights across ...</td>\n",
       "    </tr>\n",
       "    <tr>\n",
       "      <th>2</th>\n",
       "      <td>Data Scientist</td>\n",
       "      <td>Kolkata, Mumbai, New Delhi, Hyderabad/Secunder...</td>\n",
       "      <td>Analytos</td>\n",
       "      <td>You will collaborate with the brightest techni...</td>\n",
       "    </tr>\n",
       "    <tr>\n",
       "      <th>3</th>\n",
       "      <td>Junior Data Scientist</td>\n",
       "      <td>Gurgaon/Gurugram, United States (USA), Bulgaria</td>\n",
       "      <td>Adidas</td>\n",
       "      <td>Four-year college or university degree with fo...</td>\n",
       "    </tr>\n",
       "    <tr>\n",
       "      <th>4</th>\n",
       "      <td>Data Scientist - II (Contract)</td>\n",
       "      <td>Gurgaon/Gurugram</td>\n",
       "      <td>Netomi</td>\n",
       "      <td>3+ years of experience as a data scientist, pr...</td>\n",
       "    </tr>\n",
       "    <tr>\n",
       "      <th>5</th>\n",
       "      <td>Data Scientist</td>\n",
       "      <td>Noida</td>\n",
       "      <td>Gujarat Fluorochemicals</td>\n",
       "      <td>Functional Skills Required - Strong problem so...</td>\n",
       "    </tr>\n",
       "    <tr>\n",
       "      <th>6</th>\n",
       "      <td>Research Scientist - Bioinformatics</td>\n",
       "      <td>Gurgaon/Gurugram</td>\n",
       "      <td>Biopeople India</td>\n",
       "      <td>Experience in molecular biology and associated...</td>\n",
       "    </tr>\n",
       "    <tr>\n",
       "      <th>7</th>\n",
       "      <td>Data Scientist - I</td>\n",
       "      <td>Gurgaon/Gurugram</td>\n",
       "      <td>Netomi</td>\n",
       "      <td>Design and implement machine learning algorith...</td>\n",
       "    </tr>\n",
       "    <tr>\n",
       "      <th>8</th>\n",
       "      <td>Machine Learning Engineer</td>\n",
       "      <td>Noida</td>\n",
       "      <td>Profit By Outsourcing</td>\n",
       "      <td>2 years of relevant Machine learning experienc...</td>\n",
       "    </tr>\n",
       "    <tr>\n",
       "      <th>9</th>\n",
       "      <td>Assistant Manager - Data Scientist</td>\n",
       "      <td>Gurgaon/Gurugram</td>\n",
       "      <td>Fidelity International</td>\n",
       "      <td>Graduation (must), preferably in Engineering, ...</td>\n",
       "    </tr>\n",
       "  </tbody>\n",
       "</table>\n",
       "</div>"
      ],
      "text/plain": [
       "                                 Title  \\\n",
       "0                Junior Data Scientist   \n",
       "1                       Data Scientist   \n",
       "2                       Data Scientist   \n",
       "3                Junior Data Scientist   \n",
       "4       Data Scientist - II (Contract)   \n",
       "5                       Data Scientist   \n",
       "6  Research Scientist - Bioinformatics   \n",
       "7                   Data Scientist - I   \n",
       "8            Machine Learning Engineer   \n",
       "9   Assistant Manager - Data Scientist   \n",
       "\n",
       "                                            Location            Comapany Name  \\\n",
       "0  Kolkata, Mumbai, New Delhi, Hyderabad/Secunder...                 Analytos   \n",
       "1              Gurgaon/Gurugram, Bangalore/Bengaluru                Blackbuck   \n",
       "2  Kolkata, Mumbai, New Delhi, Hyderabad/Secunder...                 Analytos   \n",
       "3    Gurgaon/Gurugram, United States (USA), Bulgaria                   Adidas   \n",
       "4                                   Gurgaon/Gurugram                   Netomi   \n",
       "5                                              Noida  Gujarat Fluorochemicals   \n",
       "6                                   Gurgaon/Gurugram          Biopeople India   \n",
       "7                                   Gurgaon/Gurugram                   Netomi   \n",
       "8                                              Noida    Profit By Outsourcing   \n",
       "9                                   Gurgaon/Gurugram   Fidelity International   \n",
       "\n",
       "                                          Experience  \n",
       "0  Experience : 0 to 2 years. Experience / Strong...  \n",
       "1  Some of the problem areas are Insights across ...  \n",
       "2  You will collaborate with the brightest techni...  \n",
       "3  Four-year college or university degree with fo...  \n",
       "4  3+ years of experience as a data scientist, pr...  \n",
       "5  Functional Skills Required - Strong problem so...  \n",
       "6  Experience in molecular biology and associated...  \n",
       "7  Design and implement machine learning algorith...  \n",
       "8  2 years of relevant Machine learning experienc...  \n",
       "9  Graduation (must), preferably in Engineering, ...  "
      ]
     },
     "execution_count": 48,
     "metadata": {},
     "output_type": "execute_result"
    }
   ],
   "source": [
    "#Creating the Data Frame.\n",
    "data_frame3=pd.DataFrame({'Title':job_title_2, 'Location':job_location_2, 'Comapany Name':company_name_2, 'Experience':experience_required_2})\n",
    "data_frame3"
   ]
  },
  {
   "cell_type": "code",
   "execution_count": 49,
   "id": "5536db73",
   "metadata": {},
   "outputs": [],
   "source": [
    "#Q4."
   ]
  },
  {
   "cell_type": "code",
   "execution_count": 146,
   "id": "dff3f2af",
   "metadata": {},
   "outputs": [],
   "source": [
    "# Opening the flipkart page on automated chrome browser\n",
    "driver.get(\"https://www.flipkart.com/\")"
   ]
  },
  {
   "cell_type": "code",
   "execution_count": 147,
   "id": "84bf25d7",
   "metadata": {},
   "outputs": [],
   "source": [
    "# Entering “sunglasses” in the search field\n",
    "find=driver.find_element(By.CLASS_NAME,\"_3704LK\")\n",
    "find.send_keys('Sunglasses')"
   ]
  },
  {
   "cell_type": "code",
   "execution_count": 148,
   "id": "d4242099",
   "metadata": {},
   "outputs": [],
   "source": [
    "#click the search icon\n",
    "search=driver.find_element(By.XPATH,\"/html/body/div[1]/div/div[1]/div[1]/div[2]/div[2]/form/div/button\")\n",
    "search.click() "
   ]
  },
  {
   "cell_type": "code",
   "execution_count": 149,
   "id": "42d12716",
   "metadata": {},
   "outputs": [],
   "source": [
    "Brand=[]\n",
    "Brand_description=[]\n",
    "price=[]"
   ]
  },
  {
   "cell_type": "code",
   "execution_count": 155,
   "id": "6f5a3bb8",
   "metadata": {},
   "outputs": [],
   "source": [
    "# Scrapping brand name \n",
    "brand_name=driver.find_elements(By.XPATH,'//div[@class=\"_2WkVRV\"]')\n",
    "for i in brand_name[0:100]:\n",
    "    brandname=i.text\n",
    "    Brand.append(brandname)\n",
    "    \n",
    "    \n",
    "# Scrapping brand description   \n",
    "    \n",
    "brand_description=driver.find_elements(By.XPATH,'//a[@class=\"IRpwTa\"]')\n",
    "for i in brand_description[0:100]:\n",
    "    bd=i.text\n",
    "    Brand_description.append(bd)\n",
    "    \n",
    "    \n",
    "# Scrapping price on first page\n",
    "\n",
    "pri=driver.find_elements(By.XPATH,'//div[@class=\"_30jeq3\"]')\n",
    "for i in pri[0:100]:\n",
    "    p=i.text\n",
    "    price.append(p)"
   ]
  },
  {
   "cell_type": "code",
   "execution_count": 156,
   "id": "6ccd77c6",
   "metadata": {},
   "outputs": [
    {
     "name": "stdout",
     "output_type": "stream",
     "text": [
      "120 114 120\n"
     ]
    }
   ],
   "source": [
    "print(len(Brand),len(Brand_description),len(price))"
   ]
  },
  {
   "cell_type": "code",
   "execution_count": 157,
   "id": "4bcdca21",
   "metadata": {},
   "outputs": [
    {
     "data": {
      "text/html": [
       "<div>\n",
       "<style scoped>\n",
       "    .dataframe tbody tr th:only-of-type {\n",
       "        vertical-align: middle;\n",
       "    }\n",
       "\n",
       "    .dataframe tbody tr th {\n",
       "        vertical-align: top;\n",
       "    }\n",
       "\n",
       "    .dataframe thead th {\n",
       "        text-align: right;\n",
       "    }\n",
       "</style>\n",
       "<table border=\"1\" class=\"dataframe\">\n",
       "  <thead>\n",
       "    <tr style=\"text-align: right;\">\n",
       "      <th></th>\n",
       "      <th>Brande</th>\n",
       "      <th>Brande Description</th>\n",
       "      <th>Price</th>\n",
       "    </tr>\n",
       "  </thead>\n",
       "  <tbody>\n",
       "    <tr>\n",
       "      <th>0</th>\n",
       "      <td>VINCENT CHASE</td>\n",
       "      <td>by Lenskart Polarized, UV Protection Retro Squ...</td>\n",
       "      <td>₹849</td>\n",
       "    </tr>\n",
       "    <tr>\n",
       "      <th>1</th>\n",
       "      <td>VINCENT CHASE</td>\n",
       "      <td>Polarized, UV Protection Round Sunglasses (50)</td>\n",
       "      <td>₹789</td>\n",
       "    </tr>\n",
       "    <tr>\n",
       "      <th>2</th>\n",
       "      <td>Elligator</td>\n",
       "      <td>UV Protection Wayfarer Sunglasses (53)</td>\n",
       "      <td>₹149</td>\n",
       "    </tr>\n",
       "    <tr>\n",
       "      <th>3</th>\n",
       "      <td>Elligator</td>\n",
       "      <td>UV Protection Cat-eye, Retro Square, Oval, Rou...</td>\n",
       "      <td>₹109</td>\n",
       "    </tr>\n",
       "    <tr>\n",
       "      <th>4</th>\n",
       "      <td>Elligator</td>\n",
       "      <td>Polarized, UV Protection Retro Square Sunglass...</td>\n",
       "      <td>₹149</td>\n",
       "    </tr>\n",
       "    <tr>\n",
       "      <th>...</th>\n",
       "      <td>...</td>\n",
       "      <td>...</td>\n",
       "      <td>...</td>\n",
       "    </tr>\n",
       "    <tr>\n",
       "      <th>95</th>\n",
       "      <td>VINCENT CHASE</td>\n",
       "      <td>Gradient, UV Protection Wayfarer Sunglasses (F...</td>\n",
       "      <td>₹949</td>\n",
       "    </tr>\n",
       "    <tr>\n",
       "      <th>96</th>\n",
       "      <td>NuVew</td>\n",
       "      <td>UV Protection Shield Sunglasses (Free Size)</td>\n",
       "      <td>₹99</td>\n",
       "    </tr>\n",
       "    <tr>\n",
       "      <th>97</th>\n",
       "      <td>Elligator</td>\n",
       "      <td>Polarized, UV Protection Rectangular Sunglasse...</td>\n",
       "      <td>₹249</td>\n",
       "    </tr>\n",
       "    <tr>\n",
       "      <th>98</th>\n",
       "      <td>SRPM</td>\n",
       "      <td>UV Protection Wayfarer Sunglasses (Free Size)</td>\n",
       "      <td>₹169</td>\n",
       "    </tr>\n",
       "    <tr>\n",
       "      <th>99</th>\n",
       "      <td>VINCENT CHASE</td>\n",
       "      <td>UV Protection Sports Sunglasses (65)</td>\n",
       "      <td>₹879</td>\n",
       "    </tr>\n",
       "  </tbody>\n",
       "</table>\n",
       "<p>100 rows × 3 columns</p>\n",
       "</div>"
      ],
      "text/plain": [
       "           Brande                                 Brande Description Price\n",
       "0   VINCENT CHASE  by Lenskart Polarized, UV Protection Retro Squ...  ₹849\n",
       "1   VINCENT CHASE     Polarized, UV Protection Round Sunglasses (50)  ₹789\n",
       "2       Elligator             UV Protection Wayfarer Sunglasses (53)  ₹149\n",
       "3       Elligator  UV Protection Cat-eye, Retro Square, Oval, Rou...  ₹109\n",
       "4       Elligator  Polarized, UV Protection Retro Square Sunglass...  ₹149\n",
       "..            ...                                                ...   ...\n",
       "95  VINCENT CHASE  Gradient, UV Protection Wayfarer Sunglasses (F...  ₹949\n",
       "96          NuVew        UV Protection Shield Sunglasses (Free Size)   ₹99\n",
       "97      Elligator  Polarized, UV Protection Rectangular Sunglasse...  ₹249\n",
       "98           SRPM      UV Protection Wayfarer Sunglasses (Free Size)  ₹169\n",
       "99  VINCENT CHASE               UV Protection Sports Sunglasses (65)  ₹879\n",
       "\n",
       "[100 rows x 3 columns]"
      ]
     },
     "execution_count": 157,
     "metadata": {},
     "output_type": "execute_result"
    }
   ],
   "source": [
    "#Creating the Data Frame.\n",
    "data_frame4=pd.DataFrame({'Brande':Brand[0:100], 'Brande Description':Brand_description[0:100], 'Price':price[0:100]})\n",
    "data_frame4"
   ]
  },
  {
   "cell_type": "code",
   "execution_count": 76,
   "id": "667fe20b",
   "metadata": {},
   "outputs": [],
   "source": [
    "#Q5.Scrape 100 reviews data from flipkart.com for iphone11 phone. You have to go the link: https://www.flipkart.com/apple-iphone-11-black-64-gb/product\u0002reviews/itm4e5041ba101fd?pid=MOBFWQ6BXGJCEYNY&lid=LSTMOBFWQ6BXGJCEYNYZXSHRJ&market place=FLIPKART"
   ]
  },
  {
   "cell_type": "code",
   "execution_count": 77,
   "id": "5667c319",
   "metadata": {},
   "outputs": [],
   "source": [
    "# Opening the flipkart page on automated chrome browser\n",
    "driver.get(\"https://www.flipkart.com/\")"
   ]
  },
  {
   "cell_type": "code",
   "execution_count": 78,
   "id": "621524e3",
   "metadata": {},
   "outputs": [],
   "source": [
    "# # Entering “iphone11” in the search field\n",
    "\n",
    "find_2=driver.find_element(By.CLASS_NAME,\"_3704LK\")\n",
    "find_2.send_keys(\"iphone11\")"
   ]
  },
  {
   "cell_type": "code",
   "execution_count": 79,
   "id": "302c441f",
   "metadata": {},
   "outputs": [],
   "source": [
    "#click the search icon\n",
    "search=driver.find_element(By.XPATH,\"/html/body/div/div/div[1]/div[1]/div[2]/div[2]/form/div/button\")\n",
    "search.click()"
   ]
  },
  {
   "cell_type": "code",
   "execution_count": 83,
   "id": "a871c38f",
   "metadata": {},
   "outputs": [],
   "source": [
    "# opening https://www.flipkart.com/apple-iphone-11-black-64-gb/product\u0002reviews/itm4e5041ba101fd?pid=MOBFWQ6BXGJCEYNY&lid=LSTMOBFWQ6BXGJCEYNYZXSHRJ&market place=FLIPKART\n",
    "click= driver.find_element(By.XPATH,\"/html/body/div/div/div[3]/div[1]/div[2]/div[5]/div/div/div/a/div[2]/div[1]/div[1]\")\n",
    "click.click()"
   ]
  },
  {
   "cell_type": "code",
   "execution_count": 84,
   "id": "7542805c",
   "metadata": {},
   "outputs": [],
   "source": [
    "# Creating empty list \n",
    "Rating=[]\n",
    "Review_summary=[]\n",
    "Full_review=[]"
   ]
  },
  {
   "cell_type": "code",
   "execution_count": 121,
   "id": "3e779218",
   "metadata": {},
   "outputs": [],
   "source": [
    "# Scrapping Rating \n",
    "rating=driver.find_elements(By.XPATH,'//div[@class=\"_3LWZlK _1BLPMq\"]')\n",
    "for i in rating[0:100]:\n",
    "    R=i.text\n",
    "    Rating.append(R)\n",
    "\n",
    "    \n",
    "# Scrapping Review summary   \n",
    "reviwsummary=driver.find_elements(By.XPATH,'//p[@class=\"_2-N8zT\"]')\n",
    "for i in reviwsummary[0:100]:\n",
    "    rv=i.text\n",
    "    Review_summary.append(rv)\n",
    "   \n",
    "# scrapping Full review   \n",
    "review=driver.find_elements(By.XPATH,'//div[@class=\"t-ZTKy\"]')\n",
    "for i in review[0:100]:\n",
    "    rvs=i.text\n",
    "    Full_review.append(rvs)    "
   ]
  },
  {
   "cell_type": "code",
   "execution_count": 122,
   "id": "5821110d",
   "metadata": {},
   "outputs": [
    {
     "name": "stdout",
     "output_type": "stream",
     "text": [
      "144 108 102\n"
     ]
    }
   ],
   "source": [
    "#checking the lenght of the lists\n",
    "print(len(Rating),len(Review_summary),len(Full_review))"
   ]
  },
  {
   "cell_type": "code",
   "execution_count": 123,
   "id": "d2f2c8c4",
   "metadata": {},
   "outputs": [
    {
     "data": {
      "text/html": [
       "<div>\n",
       "<style scoped>\n",
       "    .dataframe tbody tr th:only-of-type {\n",
       "        vertical-align: middle;\n",
       "    }\n",
       "\n",
       "    .dataframe tbody tr th {\n",
       "        vertical-align: top;\n",
       "    }\n",
       "\n",
       "    .dataframe thead th {\n",
       "        text-align: right;\n",
       "    }\n",
       "</style>\n",
       "<table border=\"1\" class=\"dataframe\">\n",
       "  <thead>\n",
       "    <tr style=\"text-align: right;\">\n",
       "      <th></th>\n",
       "      <th>Rating</th>\n",
       "      <th>Review summary</th>\n",
       "      <th>Full Review</th>\n",
       "    </tr>\n",
       "  </thead>\n",
       "  <tbody>\n",
       "    <tr>\n",
       "      <th>0</th>\n",
       "      <td>4</td>\n",
       "      <td>Good quality product</td>\n",
       "      <td>impressively Nice......\\nOne of the greatest i...</td>\n",
       "    </tr>\n",
       "    <tr>\n",
       "      <th>1</th>\n",
       "      <td>5</td>\n",
       "      <td>Perfect product!</td>\n",
       "      <td>Nice products thanks flkat</td>\n",
       "    </tr>\n",
       "    <tr>\n",
       "      <th>2</th>\n",
       "      <td>5</td>\n",
       "      <td>Simply awesome</td>\n",
       "      <td>Really satisfied with the Product I received.....</td>\n",
       "    </tr>\n",
       "    <tr>\n",
       "      <th>3</th>\n",
       "      <td>5</td>\n",
       "      <td>Terrific purchase</td>\n",
       "      <td>Good 👍 phone 🤳 lucky ❤️😘</td>\n",
       "    </tr>\n",
       "    <tr>\n",
       "      <th>4</th>\n",
       "      <td>5</td>\n",
       "      <td>Fabulous!</td>\n",
       "      <td>Fast performance to previous iPhone x\\nGood ca...</td>\n",
       "    </tr>\n",
       "    <tr>\n",
       "      <th>...</th>\n",
       "      <td>...</td>\n",
       "      <td>...</td>\n",
       "      <td>...</td>\n",
       "    </tr>\n",
       "    <tr>\n",
       "      <th>95</th>\n",
       "      <td>5</td>\n",
       "      <td>Great product</td>\n",
       "      <td>Awesome product ❤️❤️\\nThank you Flipkart</td>\n",
       "    </tr>\n",
       "    <tr>\n",
       "      <th>96</th>\n",
       "      <td>4</td>\n",
       "      <td>Good quality product</td>\n",
       "      <td>impressively Nice......\\nOne of the greatest i...</td>\n",
       "    </tr>\n",
       "    <tr>\n",
       "      <th>97</th>\n",
       "      <td>5</td>\n",
       "      <td>Perfect product!</td>\n",
       "      <td>Nice products thanks flkat</td>\n",
       "    </tr>\n",
       "    <tr>\n",
       "      <th>98</th>\n",
       "      <td>5</td>\n",
       "      <td>Simply awesome</td>\n",
       "      <td>Really satisfied with the Product I received.....</td>\n",
       "    </tr>\n",
       "    <tr>\n",
       "      <th>99</th>\n",
       "      <td>5</td>\n",
       "      <td>Terrific purchase</td>\n",
       "      <td>Good 👍 phone 🤳 lucky ❤️😘</td>\n",
       "    </tr>\n",
       "  </tbody>\n",
       "</table>\n",
       "<p>100 rows × 3 columns</p>\n",
       "</div>"
      ],
      "text/plain": [
       "   Rating        Review summary  \\\n",
       "0       4  Good quality product   \n",
       "1       5      Perfect product!   \n",
       "2       5        Simply awesome   \n",
       "3       5     Terrific purchase   \n",
       "4       5             Fabulous!   \n",
       "..    ...                   ...   \n",
       "95      5         Great product   \n",
       "96      4  Good quality product   \n",
       "97      5      Perfect product!   \n",
       "98      5        Simply awesome   \n",
       "99      5     Terrific purchase   \n",
       "\n",
       "                                          Full Review  \n",
       "0   impressively Nice......\\nOne of the greatest i...  \n",
       "1                          Nice products thanks flkat  \n",
       "2   Really satisfied with the Product I received.....  \n",
       "3                            Good 👍 phone 🤳 lucky ❤️😘  \n",
       "4   Fast performance to previous iPhone x\\nGood ca...  \n",
       "..                                                ...  \n",
       "95           Awesome product ❤️❤️\\nThank you Flipkart  \n",
       "96  impressively Nice......\\nOne of the greatest i...  \n",
       "97                         Nice products thanks flkat  \n",
       "98  Really satisfied with the Product I received.....  \n",
       "99                           Good 👍 phone 🤳 lucky ❤️😘  \n",
       "\n",
       "[100 rows x 3 columns]"
      ]
     },
     "execution_count": 123,
     "metadata": {},
     "output_type": "execute_result"
    }
   ],
   "source": [
    "# Creating the data frame.\n",
    "data_frame5=pd.DataFrame({'Rating':Rating[0:100], 'Review summary':Review_summary[0:100], 'Full Review':Full_review[0:100]})\n",
    "data_frame5"
   ]
  },
  {
   "cell_type": "code",
   "execution_count": 124,
   "id": "c22b803d",
   "metadata": {},
   "outputs": [],
   "source": [
    "#Q6. : Scrape data for first 100 sneakers you find when you visit flipkart.com and search for “sneakers” in the search field"
   ]
  },
  {
   "cell_type": "code",
   "execution_count": 125,
   "id": "cf5a27f0",
   "metadata": {},
   "outputs": [],
   "source": [
    "# Opening the flipkart page on automated chrome browser\n",
    "driver.get(\"https://www.flipkart.com/\")"
   ]
  },
  {
   "cell_type": "code",
   "execution_count": 126,
   "id": "ff05a6e5",
   "metadata": {},
   "outputs": [],
   "source": [
    "# Entering “sneakers” in the search field\n",
    "find=driver.find_element(By.CLASS_NAME,\"_3704LK\")\n",
    "find.send_keys('sneakers')"
   ]
  },
  {
   "cell_type": "code",
   "execution_count": 127,
   "id": "4cf4719c",
   "metadata": {},
   "outputs": [],
   "source": [
    "#click the search icon\n",
    "search=driver.find_element(By.XPATH,\"/html/body/div/div/div[1]/div[1]/div[2]/div[2]/form/div/button\")\n",
    "search.click() "
   ]
  },
  {
   "cell_type": "code",
   "execution_count": 138,
   "id": "46468f33",
   "metadata": {},
   "outputs": [],
   "source": [
    "Brand_1=[]\n",
    "Product_description=[]\n",
    "price_1=[]"
   ]
  },
  {
   "cell_type": "code",
   "execution_count": 143,
   "id": "65916993",
   "metadata": {},
   "outputs": [],
   "source": [
    "# Scrapping brand name \n",
    "brand_name_2=driver.find_elements(By.XPATH,'//div[@class=\"_2WkVRV\"]')\n",
    "for i in brand_name_2[0:100]:\n",
    "    brandnames=i.text\n",
    "    Brand_1.append(brandnames)\n",
    "    \n",
    "    \n",
    "# Scrapping product description   \n",
    "    \n",
    "product_description=driver.find_elements(By.XPATH,'//a[@class=\"IRpwTa\"]')\n",
    "for i in product_description[0:100]:\n",
    "    bd=i.text\n",
    "    Product_description.append(bd)\n",
    "    \n",
    "    \n",
    "# Scrapping price \n",
    "\n",
    "pric=driver.find_elements(By.XPATH,'//div[@class=\"_30jeq3\"]')\n",
    "for i in pric[0:100]:\n",
    "    pr=i.text\n",
    "    price_1.append(pr)"
   ]
  },
  {
   "cell_type": "code",
   "execution_count": 144,
   "id": "3971f9b0",
   "metadata": {},
   "outputs": [
    {
     "name": "stdout",
     "output_type": "stream",
     "text": [
      "120 120 120\n"
     ]
    }
   ],
   "source": [
    "print(len(Brand_1),len(Product_description),len(price_1))"
   ]
  },
  {
   "cell_type": "code",
   "execution_count": 145,
   "id": "cbdbf54d",
   "metadata": {},
   "outputs": [
    {
     "data": {
      "text/html": [
       "<div>\n",
       "<style scoped>\n",
       "    .dataframe tbody tr th:only-of-type {\n",
       "        vertical-align: middle;\n",
       "    }\n",
       "\n",
       "    .dataframe tbody tr th {\n",
       "        vertical-align: top;\n",
       "    }\n",
       "\n",
       "    .dataframe thead th {\n",
       "        text-align: right;\n",
       "    }\n",
       "</style>\n",
       "<table border=\"1\" class=\"dataframe\">\n",
       "  <thead>\n",
       "    <tr style=\"text-align: right;\">\n",
       "      <th></th>\n",
       "      <th>Brande</th>\n",
       "      <th>Product Description</th>\n",
       "      <th>Price</th>\n",
       "    </tr>\n",
       "  </thead>\n",
       "  <tbody>\n",
       "    <tr>\n",
       "      <th>0</th>\n",
       "      <td>RapidBox</td>\n",
       "      <td>Sneakers For Men</td>\n",
       "      <td>₹579</td>\n",
       "    </tr>\n",
       "    <tr>\n",
       "      <th>1</th>\n",
       "      <td>K- FOOTLANCE</td>\n",
       "      <td>Sneakers For Men</td>\n",
       "      <td>₹399</td>\n",
       "    </tr>\n",
       "    <tr>\n",
       "      <th>2</th>\n",
       "      <td>Layasa</td>\n",
       "      <td>Casual Sneakers White Shoes For Girls And Snea...</td>\n",
       "      <td>₹449</td>\n",
       "    </tr>\n",
       "    <tr>\n",
       "      <th>3</th>\n",
       "      <td>aadi</td>\n",
       "      <td>Synthetic| Lightweight| Premiun| Comfort| Summ...</td>\n",
       "      <td>₹299</td>\n",
       "    </tr>\n",
       "    <tr>\n",
       "      <th>4</th>\n",
       "      <td>BIRDE</td>\n",
       "      <td>Combo Pack Of 2 Casual Shoes Sneakers For Men</td>\n",
       "      <td>₹499</td>\n",
       "    </tr>\n",
       "    <tr>\n",
       "      <th>...</th>\n",
       "      <td>...</td>\n",
       "      <td>...</td>\n",
       "      <td>...</td>\n",
       "    </tr>\n",
       "    <tr>\n",
       "      <th>95</th>\n",
       "      <td>Labbin</td>\n",
       "      <td>Sneakers For Men</td>\n",
       "      <td>₹379</td>\n",
       "    </tr>\n",
       "    <tr>\n",
       "      <th>96</th>\n",
       "      <td>aadi</td>\n",
       "      <td>Mesh |Lightweight|Comfort|Summer|Trendy|Walkin...</td>\n",
       "      <td>₹299</td>\n",
       "    </tr>\n",
       "    <tr>\n",
       "      <th>97</th>\n",
       "      <td>BIRDE</td>\n",
       "      <td>Premium Sports Shoes For Men Pack Of 2 Sneaker...</td>\n",
       "      <td>₹499</td>\n",
       "    </tr>\n",
       "    <tr>\n",
       "      <th>98</th>\n",
       "      <td>BRUTON</td>\n",
       "      <td>Modern Trendy Shoes Sneakers For Men</td>\n",
       "      <td>₹249</td>\n",
       "    </tr>\n",
       "    <tr>\n",
       "      <th>99</th>\n",
       "      <td>aadi</td>\n",
       "      <td>Lightweight,Comfort,Summer,Trendy,Walking,Outd...</td>\n",
       "      <td>₹299</td>\n",
       "    </tr>\n",
       "  </tbody>\n",
       "</table>\n",
       "<p>100 rows × 3 columns</p>\n",
       "</div>"
      ],
      "text/plain": [
       "          Brande                                Product Description Price\n",
       "0       RapidBox                                   Sneakers For Men  ₹579\n",
       "1   K- FOOTLANCE                                   Sneakers For Men  ₹399\n",
       "2         Layasa  Casual Sneakers White Shoes For Girls And Snea...  ₹449\n",
       "3           aadi  Synthetic| Lightweight| Premiun| Comfort| Summ...  ₹299\n",
       "4          BIRDE      Combo Pack Of 2 Casual Shoes Sneakers For Men  ₹499\n",
       "..           ...                                                ...   ...\n",
       "95        Labbin                                   Sneakers For Men  ₹379\n",
       "96          aadi  Mesh |Lightweight|Comfort|Summer|Trendy|Walkin...  ₹299\n",
       "97         BIRDE  Premium Sports Shoes For Men Pack Of 2 Sneaker...  ₹499\n",
       "98        BRUTON               Modern Trendy Shoes Sneakers For Men  ₹249\n",
       "99          aadi  Lightweight,Comfort,Summer,Trendy,Walking,Outd...  ₹299\n",
       "\n",
       "[100 rows x 3 columns]"
      ]
     },
     "execution_count": 145,
     "metadata": {},
     "output_type": "execute_result"
    }
   ],
   "source": [
    "#Creating the Data Frame.\n",
    "data_frame6=pd.DataFrame({'Brande':Brand_1[0:100], 'Product Description':Product_description[0:100], 'Price':price_1[0:100]})\n",
    "data_frame6"
   ]
  },
  {
   "cell_type": "code",
   "execution_count": 158,
   "id": "1922e44f",
   "metadata": {},
   "outputs": [],
   "source": [
    "# Q7.Go to webpage https://www.amazon.in/ Enter “Laptop” in the search field and then click the search icon. Then set CPU Type filter to “Intel Core i7” as shown in the below image:"
   ]
  },
  {
   "cell_type": "code",
   "execution_count": 180,
   "id": "0cdd7fa4",
   "metadata": {},
   "outputs": [],
   "source": [
    "# Opening the amazon page on automated chrome browser\n",
    "driver.get(\"https://www.amazon.in/\")"
   ]
  },
  {
   "cell_type": "code",
   "execution_count": 181,
   "id": "0edfdad9",
   "metadata": {},
   "outputs": [],
   "source": [
    "# enter Laption in the search \n",
    "search_g= driver.find_element(By.XPATH,\"//input[@type='text']\")\n",
    "search_g.send_keys('Laptop')"
   ]
  },
  {
   "cell_type": "code",
   "execution_count": 182,
   "id": "600f5fbc",
   "metadata": {},
   "outputs": [],
   "source": [
    "# click on search bar\n",
    "search_btn=driver.find_element(By.XPATH,\"//input[@id='nav-search-submit-button']\")\n",
    "search_btn.click()"
   ]
  },
  {
   "cell_type": "code",
   "execution_count": 183,
   "id": "eb23b7de",
   "metadata": {},
   "outputs": [],
   "source": [
    "##apply the CPU filter by checking the respective box\n",
    "location_filter_cpu=driver.find_element(By.XPATH,\"/html/body/div[1]/div[2]/div[1]/div[2]/div/div[3]/span/div[1]/div/div/div[6]/ul[7]/span[13]/li/span/a/span\")\n",
    "location_filter_cpu.click()"
   ]
  },
  {
   "cell_type": "code",
   "execution_count": 184,
   "id": "ef5aaf08",
   "metadata": {},
   "outputs": [],
   "source": [
    "#Creating Empty list\n",
    "Title_3=[]\n",
    "Ratings_3=[]\n",
    "Price_3=[]"
   ]
  },
  {
   "cell_type": "code",
   "execution_count": 193,
   "id": "250b2620",
   "metadata": {},
   "outputs": [],
   "source": [
    "# Scrapping Title  \n",
    "Title3=driver.find_elements(By.XPATH,'//span[@class=\"a-size-medium a-color-base a-text-normal\"]')\n",
    "for i in Title3[0:10]:\n",
    "    title=i.text\n",
    "    Title_3.append(title)\n",
    "    \n",
    "# Scrapping Rating \n",
    "ratingss=driver.find_elements(By.XPATH,'//div[@class=\"a-row a-spacing-medium\"]')\n",
    "for i in ratingss[0:10]:\n",
    "    Rtng=i.text\n",
    "    Ratings_3.append(Rtng)\n",
    "    \n",
    "# Scrapping price \n",
    "\n",
    "pricss=driver.find_elements(By.XPATH,'//span[@class=\"a-price-whole\"]')\n",
    "for i in pricss[0:10]:\n",
    "    prc=i.text\n",
    "    Price_3.append(prc)"
   ]
  },
  {
   "cell_type": "code",
   "execution_count": 194,
   "id": "70dfaffa",
   "metadata": {},
   "outputs": [
    {
     "name": "stdout",
     "output_type": "stream",
     "text": [
      "40 16 40\n"
     ]
    }
   ],
   "source": [
    "#Checking the lenght\n",
    "print(len(Title_3),len(Ratings_3),len(Price_3))"
   ]
  },
  {
   "cell_type": "code",
   "execution_count": 195,
   "id": "34265d24",
   "metadata": {},
   "outputs": [
    {
     "data": {
      "text/html": [
       "<div>\n",
       "<style scoped>\n",
       "    .dataframe tbody tr th:only-of-type {\n",
       "        vertical-align: middle;\n",
       "    }\n",
       "\n",
       "    .dataframe tbody tr th {\n",
       "        vertical-align: top;\n",
       "    }\n",
       "\n",
       "    .dataframe thead th {\n",
       "        text-align: right;\n",
       "    }\n",
       "</style>\n",
       "<table border=\"1\" class=\"dataframe\">\n",
       "  <thead>\n",
       "    <tr style=\"text-align: right;\">\n",
       "      <th></th>\n",
       "      <th>Title</th>\n",
       "      <th>Ratings</th>\n",
       "      <th>Price</th>\n",
       "    </tr>\n",
       "  </thead>\n",
       "  <tbody>\n",
       "    <tr>\n",
       "      <th>0</th>\n",
       "      <td>ASUS TUF Gaming F15 (2022), 15.6\"(39.62 cms) F...</td>\n",
       "      <td></td>\n",
       "      <td>94,989</td>\n",
       "    </tr>\n",
       "    <tr>\n",
       "      <th>1</th>\n",
       "      <td>Lenovo ThinkPad E14 Intel Core i7 12th Gen 14\"...</td>\n",
       "      <td></td>\n",
       "      <td>98,990</td>\n",
       "    </tr>\n",
       "    <tr>\n",
       "      <th>2</th>\n",
       "      <td>HP Envy x360 12th Gen Intel Core i7-13.3 inch(...</td>\n",
       "      <td></td>\n",
       "      <td>1,02,990</td>\n",
       "    </tr>\n",
       "    <tr>\n",
       "      <th>3</th>\n",
       "      <td>Samsung Galaxy Book2 (NP750) Intel 12th Gen co...</td>\n",
       "      <td></td>\n",
       "      <td>79,990</td>\n",
       "    </tr>\n",
       "    <tr>\n",
       "      <th>4</th>\n",
       "      <td>LG Gram16 Intel EVO-[12th Gen Core i7/Win11/16...</td>\n",
       "      <td></td>\n",
       "      <td>99,990</td>\n",
       "    </tr>\n",
       "    <tr>\n",
       "      <th>5</th>\n",
       "      <td>HP Victus Gaming Latest 12th Gen Intel Core i7...</td>\n",
       "      <td></td>\n",
       "      <td>79,990</td>\n",
       "    </tr>\n",
       "    <tr>\n",
       "      <th>6</th>\n",
       "      <td>ASUS Zenbook Pro 14 Duo OLED (2022) Dual Scree...</td>\n",
       "      <td></td>\n",
       "      <td>1,24,990</td>\n",
       "    </tr>\n",
       "    <tr>\n",
       "      <th>7</th>\n",
       "      <td>Acer Predator Helios Neo 16 Gaming Laptop 13th...</td>\n",
       "      <td></td>\n",
       "      <td>1,29,990</td>\n",
       "    </tr>\n",
       "    <tr>\n",
       "      <th>8</th>\n",
       "      <td>HP Pavilion Plus, 12th Gen Intel Core i7 16GB ...</td>\n",
       "      <td></td>\n",
       "      <td>88,990</td>\n",
       "    </tr>\n",
       "    <tr>\n",
       "      <th>9</th>\n",
       "      <td>HP Envy x360 for Creators 12th Gen Intel Core ...</td>\n",
       "      <td></td>\n",
       "      <td>97,990</td>\n",
       "    </tr>\n",
       "  </tbody>\n",
       "</table>\n",
       "</div>"
      ],
      "text/plain": [
       "                                               Title Ratings     Price\n",
       "0  ASUS TUF Gaming F15 (2022), 15.6\"(39.62 cms) F...            94,989\n",
       "1  Lenovo ThinkPad E14 Intel Core i7 12th Gen 14\"...            98,990\n",
       "2  HP Envy x360 12th Gen Intel Core i7-13.3 inch(...          1,02,990\n",
       "3  Samsung Galaxy Book2 (NP750) Intel 12th Gen co...            79,990\n",
       "4  LG Gram16 Intel EVO-[12th Gen Core i7/Win11/16...            99,990\n",
       "5  HP Victus Gaming Latest 12th Gen Intel Core i7...            79,990\n",
       "6  ASUS Zenbook Pro 14 Duo OLED (2022) Dual Scree...          1,24,990\n",
       "7  Acer Predator Helios Neo 16 Gaming Laptop 13th...          1,29,990\n",
       "8  HP Pavilion Plus, 12th Gen Intel Core i7 16GB ...            88,990\n",
       "9  HP Envy x360 for Creators 12th Gen Intel Core ...            97,990"
      ]
     },
     "execution_count": 195,
     "metadata": {},
     "output_type": "execute_result"
    }
   ],
   "source": [
    "#Creating the Data Frame.\n",
    "data_frame6=pd.DataFrame({'Title':Title_3[0:10], 'Ratings':Ratings_3[0:10], 'Price':Price_3[0:10]})\n",
    "data_frame6"
   ]
  },
  {
   "cell_type": "code",
   "execution_count": null,
   "id": "f1af92d6",
   "metadata": {},
   "outputs": [],
   "source": [
    "#Q8. Write a python program to scrape data for Top 1000 Quotes of All Time."
   ]
  },
  {
   "cell_type": "code",
   "execution_count": 298,
   "id": "89dde3b3",
   "metadata": {},
   "outputs": [],
   "source": [
    "import selenium\n",
    "import pandas as pd\n",
    "from selenium import webdriver\n",
    "import time\n",
    "from selenium.common.exceptions import NoSuchElementException\n",
    "import warnings\n",
    "warnings.filterwarnings('ignore')\n",
    "from selenium.webdriver.common.by import By\n",
    "\n",
    "#connecting Webdriver\n",
    "driver = webdriver.Chrome(r'E:\\HP\\Desktop\\Internship\\chromedriver.exe')\n",
    "driver\n",
    "\n",
    "url=\"https://www.azquotes.com/\"\n",
    "driver.get(url)"
   ]
  },
  {
   "cell_type": "code",
   "execution_count": 299,
   "id": "09e87bc9",
   "metadata": {},
   "outputs": [],
   "source": [
    "Quote=[]\n",
    "Author=[]\n",
    "Type_Quote=[]"
   ]
  },
  {
   "cell_type": "code",
   "execution_count": 300,
   "id": "486a2572",
   "metadata": {},
   "outputs": [],
   "source": [
    "# Scarpping Quote from the given page\n",
    "quote_tags=driver.find_elements(By.XPATH,'//a[@class=\"title\"]')\n",
    "for i in quote_tags[0:100]:\n",
    "    quote=i.text\n",
    "    Quote.append(quote)"
   ]
  },
  {
   "cell_type": "code",
   "execution_count": 301,
   "id": "aa38bab4",
   "metadata": {},
   "outputs": [],
   "source": [
    "# Scarpping Autor from the given page\n",
    "author_tags=driver.find_elements(By.XPATH,'//div[@class=\"author\"]')\n",
    "for i in author_tags[0:100]:\n",
    "    author=i.text\n",
    "    Author.append(author)"
   ]
  },
  {
   "cell_type": "code",
   "execution_count": 302,
   "id": "882c824e",
   "metadata": {},
   "outputs": [],
   "source": [
    "# Scarpping Type of Quote from the given page\n",
    "type_quote_tags=driver.find_elements(By.XPATH,'//div[@class=\"tags\"]')\n",
    "for i in type_quote_tags[0:100]:\n",
    "    type_quote=i.text\n",
    "    Type_Quote.append(type_quote)"
   ]
  },
  {
   "cell_type": "code",
   "execution_count": 304,
   "id": "4e5ca5db",
   "metadata": {},
   "outputs": [
    {
     "name": "stdout",
     "output_type": "stream",
     "text": [
      "14 0 0\n"
     ]
    }
   ],
   "source": [
    "print(len(Quote),len(Author), len(Type_Quote))"
   ]
  },
  {
   "cell_type": "code",
   "execution_count": null,
   "id": "82ecae70",
   "metadata": {},
   "outputs": [],
   "source": [
    "# lenght of all 3 items are not qual so not able to do data frame "
   ]
  },
  {
   "cell_type": "code",
   "execution_count": 212,
   "id": "93135d19",
   "metadata": {},
   "outputs": [],
   "source": [
    "#Q9. Write a python program to display list of respected former Prime Ministers of India(i.e. Name, Born-Dead, Term of office, Remarks) from https://www.jagranjosh.com/."
   ]
  },
  {
   "cell_type": "code",
   "execution_count": 218,
   "id": "b27d647e",
   "metadata": {},
   "outputs": [],
   "source": [
    "#1 First get the webpagehttps://www.jagranjosh.com/\n",
    "driver.get(\"https://www.jagranjosh.com/\")"
   ]
  },
  {
   "cell_type": "code",
   "execution_count": 219,
   "id": "8f4a2336",
   "metadata": {},
   "outputs": [],
   "source": [
    "# 2 click on the GK option\n",
    "click_on_gk=driver.find_element(By.XPATH,\"/html/body/div/div[1]/div/div[1]/div/div[5]/div/div[1]/header/div[3]/ul/li[3]/a\")\n",
    "click_on_gk.click()"
   ]
  },
  {
   "cell_type": "code",
   "execution_count": 221,
   "id": "697cf0d6",
   "metadata": {},
   "outputs": [],
   "source": [
    "#3  click on the List of all Prime Ministers of India\n",
    "prime_ministers=driver.find_element(By.XPATH,\"/html/body/div[1]/div/div/div[2]/div/div[10]/div/div/ul/li[2]/a\")\n",
    "prime_ministers.click()"
   ]
  },
  {
   "cell_type": "code",
   "execution_count": 226,
   "id": "8829dace",
   "metadata": {},
   "outputs": [],
   "source": [
    "#creating empty list\n",
    "Name=[]\n",
    "Born_Dead = [] \n",
    "Term_of_office=[] \n",
    "Remarks=[]"
   ]
  },
  {
   "cell_type": "code",
   "execution_count": 234,
   "id": "59a0c703",
   "metadata": {},
   "outputs": [],
   "source": [
    "# Scrapping name\n",
    "\n",
    "primeminister=driver.find_elements(By.XPATH,'/html/body/div/div[2]/div/div[2]/div/div[1]/div/div/div/div[4]/span/div[2]/table/tbody/tr[2]/td[2]/p')\n",
    "for i in primeminister:\n",
    "    names=i.text\n",
    "    Name.append(names)\n",
    "    \n",
    "# Scrapping Born_Dead\n",
    "\n",
    "dates=driver.find_elements(By.XPATH,'/html/body/div/div[2]/div/div[2]/div/div[1]/div/div/div/div[4]/span/div[2]/table/tbody/tr[2]/td[3]/p')\n",
    "for i in dates:\n",
    "    dt=i.text\n",
    "    Born_Dead.append(dt)\n",
    "    \n",
    "# Scrapping Term_of_office\n",
    "termofoffice=driver.find_elements(By.XPATH,'/html/body/div/div[2]/div/div[2]/div/div[1]/div/div/div/div[4]/span/div[2]/table/tbody/tr[2]/td[4]/p[1]/span')\n",
    "for i in termofoffice:\n",
    "    trms=i.text\n",
    "    Term_of_office.append(trms)\n",
    "    \n",
    "# Scrapping Remarks\n",
    "\n",
    "remark=driver.find_elements(By.XPATH,'/html/body/div/div[2]/div/div[2]/div/div[1]/div/div/div/div[4]/span/div[2]/table/tbody/tr[2]/td[5]/p')\n",
    "for i in remark:\n",
    "    rmk=i.text\n",
    "    Remarks.append(rmk)"
   ]
  },
  {
   "cell_type": "code",
   "execution_count": 235,
   "id": "77395316",
   "metadata": {},
   "outputs": [
    {
     "name": "stdout",
     "output_type": "stream",
     "text": [
      "3 3 3 3\n"
     ]
    }
   ],
   "source": [
    "print(len(Name),len(Born_Dead),len(Term_of_office),len(Remarks))"
   ]
  },
  {
   "cell_type": "code",
   "execution_count": 236,
   "id": "84ea68f9",
   "metadata": {},
   "outputs": [
    {
     "data": {
      "text/html": [
       "<div>\n",
       "<style scoped>\n",
       "    .dataframe tbody tr th:only-of-type {\n",
       "        vertical-align: middle;\n",
       "    }\n",
       "\n",
       "    .dataframe tbody tr th {\n",
       "        vertical-align: top;\n",
       "    }\n",
       "\n",
       "    .dataframe thead th {\n",
       "        text-align: right;\n",
       "    }\n",
       "</style>\n",
       "<table border=\"1\" class=\"dataframe\">\n",
       "  <thead>\n",
       "    <tr style=\"text-align: right;\">\n",
       "      <th></th>\n",
       "      <th>Name</th>\n",
       "      <th>Born Dead</th>\n",
       "      <th>Term of office</th>\n",
       "      <th>Remarks</th>\n",
       "    </tr>\n",
       "  </thead>\n",
       "  <tbody>\n",
       "    <tr>\n",
       "      <th>0</th>\n",
       "      <td>Jawahar Lal Nehru</td>\n",
       "      <td>(1889–1964)</td>\n",
       "      <td>15 August 1947 to 27 May 1964\\n16 years, 286 days</td>\n",
       "      <td>The first prime minister of India and the long...</td>\n",
       "    </tr>\n",
       "    <tr>\n",
       "      <th>1</th>\n",
       "      <td>Jawahar Lal Nehru</td>\n",
       "      <td>(1889–1964)</td>\n",
       "      <td>15 August 1947 to 27 May 1964</td>\n",
       "      <td>The first prime minister of India and the long...</td>\n",
       "    </tr>\n",
       "    <tr>\n",
       "      <th>2</th>\n",
       "      <td>Jawahar Lal Nehru</td>\n",
       "      <td>(1889–1964)</td>\n",
       "      <td>15 August 1947 to 27 May 1964</td>\n",
       "      <td>The first prime minister of India and the long...</td>\n",
       "    </tr>\n",
       "  </tbody>\n",
       "</table>\n",
       "</div>"
      ],
      "text/plain": [
       "                Name    Born Dead  \\\n",
       "0  Jawahar Lal Nehru  (1889–1964)   \n",
       "1  Jawahar Lal Nehru  (1889–1964)   \n",
       "2  Jawahar Lal Nehru  (1889–1964)   \n",
       "\n",
       "                                      Term of office  \\\n",
       "0  15 August 1947 to 27 May 1964\\n16 years, 286 days   \n",
       "1                      15 August 1947 to 27 May 1964   \n",
       "2                      15 August 1947 to 27 May 1964   \n",
       "\n",
       "                                             Remarks  \n",
       "0  The first prime minister of India and the long...  \n",
       "1  The first prime minister of India and the long...  \n",
       "2  The first prime minister of India and the long...  "
      ]
     },
     "execution_count": 236,
     "metadata": {},
     "output_type": "execute_result"
    }
   ],
   "source": [
    "#Creating the Data Frame.\n",
    "data_frame9=pd.DataFrame({'Name':Name, 'Born Dead':Born_Dead, 'Term of office':Term_of_office,'Remarks':Remarks})\n",
    "data_frame9"
   ]
  },
  {
   "cell_type": "code",
   "execution_count": null,
   "id": "c248e0e9",
   "metadata": {},
   "outputs": [],
   "source": []
  },
  {
   "cell_type": "code",
   "execution_count": null,
   "id": "c529cdc0",
   "metadata": {},
   "outputs": [],
   "source": [
    "#Q10: Write a python program to display list of 50 Most expensive cars in the world (i.e. Car name and Price) from https://www.motor1.com/ This task will be done in following steps:First get the webpagehttps://www.motor1.com/\n",
    "#Then You have to click on the List option from Dropdown menu on leftside.\n",
    "#Then click on 50 most expensive carsin the world..\n",
    "#Then scrap the mentioned data and make the dataframe"
   ]
  },
  {
   "cell_type": "code",
   "execution_count": 265,
   "id": "7e0941d7",
   "metadata": {},
   "outputs": [],
   "source": [
    "import selenium\n",
    "import pandas as pd\n",
    "from selenium import webdriver\n",
    "import time\n",
    "from selenium.common.exceptions import NoSuchElementException\n",
    "import warnings\n",
    "warnings.filterwarnings('ignore')\n",
    "from selenium.webdriver.common.by import By"
   ]
  },
  {
   "cell_type": "code",
   "execution_count": 266,
   "id": "8c9d34fa",
   "metadata": {},
   "outputs": [],
   "source": [
    "\n",
    "#connecting Webdriver\n",
    "driver = webdriver.Chrome(r'E:\\HP\\Desktop\\Internship\\chromedriver.exe')\n",
    "driver\n",
    "\n",
    "url=\"https://www.motor1.com/ \"\n",
    "driver.get(url)"
   ]
  },
  {
   "cell_type": "code",
   "execution_count": 267,
   "id": "bd7d548e",
   "metadata": {},
   "outputs": [],
   "source": [
    "top50=driver.find_element(By.ID,\"search_input\")\n",
    "top50.send_keys(\"50 most expensive cars\")"
   ]
  },
  {
   "cell_type": "code",
   "execution_count": 268,
   "id": "4e7f8139",
   "metadata": {},
   "outputs": [],
   "source": [
    "cl=driver.find_element(By.XPATH,'//button[@class=\"m1-search-panel-button m1-search-form-button-animate icon-search-svg\"]')\n",
    "cl.click()"
   ]
  },
  {
   "cell_type": "code",
   "execution_count": 269,
   "id": "c8cd9617",
   "metadata": {},
   "outputs": [],
   "source": [
    "EX=driver.find_element(By.XPATH,'/html/body/div[3]/div[9]/div/div[1]/div/div/div[2]/div/div[1]/h3/a')\n",
    "EX.click()"
   ]
  },
  {
   "cell_type": "code",
   "execution_count": 270,
   "id": "2b5531f1",
   "metadata": {},
   "outputs": [],
   "source": [
    "Car=[]\n",
    "name=driver.find_elements(By.TAG_NAME,\"h3\")\n",
    "for i in name:\n",
    "    Car.append(i.text)"
   ]
  },
  {
   "cell_type": "code",
   "execution_count": 271,
   "id": "6e6ad36c",
   "metadata": {},
   "outputs": [
    {
     "name": "stdout",
     "output_type": "stream",
     "text": [
      "None\n"
     ]
    }
   ],
   "source": [
    "print(Car.remove(\"Most Expensive Cars In The World\"))"
   ]
  },
  {
   "cell_type": "code",
   "execution_count": 272,
   "id": "16da1542",
   "metadata": {},
   "outputs": [],
   "source": [
    "Price=[]\n",
    "p=driver.find_elements(By.XPATH,'/html/body/div[3]/div[7]/div[2]/div[1]/div[2]/div[1]/p/strong')\n",
    "for i in p:\n",
    "    Price.append((i.text.split(\"$\"))[-1])"
   ]
  },
  {
   "cell_type": "code",
   "execution_count": 273,
   "id": "adc4fbc1",
   "metadata": {},
   "outputs": [
    {
     "name": "stdout",
     "output_type": "stream",
     "text": [
      "\u001b[1mMost Expensive Cars in the world :\u001b[0m\n"
     ]
    },
    {
     "data": {
      "text/html": [
       "<div>\n",
       "<style scoped>\n",
       "    .dataframe tbody tr th:only-of-type {\n",
       "        vertical-align: middle;\n",
       "    }\n",
       "\n",
       "    .dataframe tbody tr th {\n",
       "        vertical-align: top;\n",
       "    }\n",
       "\n",
       "    .dataframe thead th {\n",
       "        text-align: right;\n",
       "    }\n",
       "</style>\n",
       "<table border=\"1\" class=\"dataframe\">\n",
       "  <thead>\n",
       "    <tr style=\"text-align: right;\">\n",
       "      <th></th>\n",
       "      <th>Car Name</th>\n",
       "      <th>Price</th>\n",
       "    </tr>\n",
       "  </thead>\n",
       "  <tbody>\n",
       "    <tr>\n",
       "      <th>0</th>\n",
       "      <td>De Tomaso P72</td>\n",
       "      <td>1.3 Million</td>\n",
       "    </tr>\n",
       "    <tr>\n",
       "      <th>1</th>\n",
       "      <td>Ferrari LaFerrari</td>\n",
       "      <td>1.4 Million</td>\n",
       "    </tr>\n",
       "    <tr>\n",
       "      <th>2</th>\n",
       "      <td>Pagani Huayra</td>\n",
       "      <td>1.4 Million</td>\n",
       "    </tr>\n",
       "    <tr>\n",
       "      <th>3</th>\n",
       "      <td>McLaren Elva</td>\n",
       "      <td></td>\n",
       "    </tr>\n",
       "    <tr>\n",
       "      <th>4</th>\n",
       "      <td>Czinger 21C</td>\n",
       "      <td>1.7 Million</td>\n",
       "    </tr>\n",
       "    <tr>\n",
       "      <th>5</th>\n",
       "      <td>Ferrari Monza</td>\n",
       "      <td>1.7 Million</td>\n",
       "    </tr>\n",
       "    <tr>\n",
       "      <th>6</th>\n",
       "      <td>Gordon Murray T.33</td>\n",
       "      <td>1.7 Million</td>\n",
       "    </tr>\n",
       "    <tr>\n",
       "      <th>7</th>\n",
       "      <td>Koenigsegg Gemera</td>\n",
       "      <td>1.7 Million</td>\n",
       "    </tr>\n",
       "    <tr>\n",
       "      <th>8</th>\n",
       "      <td>Zenvo TSR-S</td>\n",
       "      <td>1.7 Million</td>\n",
       "    </tr>\n",
       "    <tr>\n",
       "      <th>9</th>\n",
       "      <td>Hennessey Venom F5</td>\n",
       "      <td>1.7 Million</td>\n",
       "    </tr>\n",
       "    <tr>\n",
       "      <th>10</th>\n",
       "      <td>Bentley Bacalar</td>\n",
       "      <td>1.8 Million</td>\n",
       "    </tr>\n",
       "    <tr>\n",
       "      <th>11</th>\n",
       "      <td>Hispano Suiza Carmen Boulogne</td>\n",
       "      <td>1.9 Million</td>\n",
       "    </tr>\n",
       "    <tr>\n",
       "      <th>12</th>\n",
       "      <td>Bentley Mulliner Batur</td>\n",
       "      <td>1.9 Million</td>\n",
       "    </tr>\n",
       "    <tr>\n",
       "      <th>13</th>\n",
       "      <td>Deus Vayanne</td>\n",
       "      <td>2.0 Million</td>\n",
       "    </tr>\n",
       "    <tr>\n",
       "      <th>14</th>\n",
       "      <td>SSC Tuatara</td>\n",
       "      <td>2.0 Million</td>\n",
       "    </tr>\n",
       "    <tr>\n",
       "      <th>15</th>\n",
       "      <td>Lotus Evija</td>\n",
       "      <td>2.0 Million*</td>\n",
       "    </tr>\n",
       "    <tr>\n",
       "      <th>16</th>\n",
       "      <td>Aston Martin Vulcan</td>\n",
       "      <td>2.1 Million</td>\n",
       "    </tr>\n",
       "    <tr>\n",
       "      <th>17</th>\n",
       "      <td>Delage D12</td>\n",
       "      <td>2.3 Million</td>\n",
       "    </tr>\n",
       "    <tr>\n",
       "      <th>18</th>\n",
       "      <td>McLaren Speedtail</td>\n",
       "      <td>2.3 Million</td>\n",
       "    </tr>\n",
       "    <tr>\n",
       "      <th>19</th>\n",
       "      <td>Rimac Nevera</td>\n",
       "      <td>2.3 Million</td>\n",
       "    </tr>\n",
       "    <tr>\n",
       "      <th>20</th>\n",
       "      <td>Pagani Utopia</td>\n",
       "      <td>2.4 Million</td>\n",
       "    </tr>\n",
       "    <tr>\n",
       "      <th>21</th>\n",
       "      <td>Pininfarina Battista</td>\n",
       "      <td>2.5 Million</td>\n",
       "    </tr>\n",
       "    <tr>\n",
       "      <th>22</th>\n",
       "      <td>Ferrari FXX K Evo</td>\n",
       "      <td>2.5 Million</td>\n",
       "    </tr>\n",
       "    <tr>\n",
       "      <th>23</th>\n",
       "      <td>Gordon Murray T.50</td>\n",
       "      <td>2.6 Million</td>\n",
       "    </tr>\n",
       "    <tr>\n",
       "      <th>24</th>\n",
       "      <td>Lamborghini Countach</td>\n",
       "      <td>2.6 Million</td>\n",
       "    </tr>\n",
       "    <tr>\n",
       "      <th>25</th>\n",
       "      <td>Mercedes-AMG Project One</td>\n",
       "      <td>2.6 Million</td>\n",
       "    </tr>\n",
       "    <tr>\n",
       "      <th>26</th>\n",
       "      <td>Aston Martin Victor</td>\n",
       "      <td>2.7 Million</td>\n",
       "    </tr>\n",
       "    <tr>\n",
       "      <th>27</th>\n",
       "      <td>Hennessey Venom F5 Roadster</td>\n",
       "      <td>3.0 Million</td>\n",
       "    </tr>\n",
       "    <tr>\n",
       "      <th>28</th>\n",
       "      <td>Koenigsegg Jesko</td>\n",
       "      <td>3.0 Million</td>\n",
       "    </tr>\n",
       "    <tr>\n",
       "      <th>29</th>\n",
       "      <td>Aston Martin Valkyrie</td>\n",
       "      <td>3.0 Million</td>\n",
       "    </tr>\n",
       "    <tr>\n",
       "      <th>30</th>\n",
       "      <td>W Motors Lykan Hypersport</td>\n",
       "      <td>3.2 Million</td>\n",
       "    </tr>\n",
       "    <tr>\n",
       "      <th>31</th>\n",
       "      <td>McLaren Solus</td>\n",
       "      <td>3.4 Million</td>\n",
       "    </tr>\n",
       "    <tr>\n",
       "      <th>32</th>\n",
       "      <td>Pagani Huayra Roadster BC</td>\n",
       "      <td>3.5 Million</td>\n",
       "    </tr>\n",
       "    <tr>\n",
       "      <th>33</th>\n",
       "      <td>Bugatti Chiron Pur Sport</td>\n",
       "      <td>3.5 Million</td>\n",
       "    </tr>\n",
       "    <tr>\n",
       "      <th>34</th>\n",
       "      <td>Lamborghini Sian</td>\n",
       "      <td>3.6 Million</td>\n",
       "    </tr>\n",
       "    <tr>\n",
       "      <th>35</th>\n",
       "      <td>Koenigsegg CC850</td>\n",
       "      <td>3.6 million</td>\n",
       "    </tr>\n",
       "    <tr>\n",
       "      <th>36</th>\n",
       "      <td>Bugatti Chiron Super Sport 300+</td>\n",
       "      <td>3.7 Million</td>\n",
       "    </tr>\n",
       "    <tr>\n",
       "      <th>37</th>\n",
       "      <td>Lamborghini Veneno</td>\n",
       "      <td>3.9 Million</td>\n",
       "    </tr>\n",
       "    <tr>\n",
       "      <th>38</th>\n",
       "      <td>Bugatti Bolide</td>\n",
       "      <td>4.5 Million</td>\n",
       "    </tr>\n",
       "    <tr>\n",
       "      <th>39</th>\n",
       "      <td>Bugatti Mistral</td>\n",
       "      <td>4.7 Million</td>\n",
       "    </tr>\n",
       "    <tr>\n",
       "      <th>40</th>\n",
       "      <td>Pagani Huayra Imola</td>\n",
       "      <td>5.0 Million</td>\n",
       "    </tr>\n",
       "    <tr>\n",
       "      <th>41</th>\n",
       "      <td>Bugatti Divo</td>\n",
       "      <td>5.4 Million</td>\n",
       "    </tr>\n",
       "    <tr>\n",
       "      <th>42</th>\n",
       "      <td>SP Automotive Chaos</td>\n",
       "      <td>5.8 Million</td>\n",
       "    </tr>\n",
       "    <tr>\n",
       "      <th>43</th>\n",
       "      <td>Pagani Codalunga</td>\n",
       "      <td>6.4 Million</td>\n",
       "    </tr>\n",
       "    <tr>\n",
       "      <th>44</th>\n",
       "      <td>Mercedes-Maybach Exelero</td>\n",
       "      <td>7.4 Million</td>\n",
       "    </tr>\n",
       "    <tr>\n",
       "      <th>45</th>\n",
       "      <td>Bugatti Centodieci</td>\n",
       "      <td>8.0 Million</td>\n",
       "    </tr>\n",
       "    <tr>\n",
       "      <th>46</th>\n",
       "      <td>Bugatti Chiron Profilée</td>\n",
       "      <td>9.0 Million</td>\n",
       "    </tr>\n",
       "    <tr>\n",
       "      <th>47</th>\n",
       "      <td>Rolls-Royce Sweptail</td>\n",
       "      <td>10.8 Million</td>\n",
       "    </tr>\n",
       "    <tr>\n",
       "      <th>48</th>\n",
       "      <td>Bugatti La Voiture Noire</td>\n",
       "      <td>12.8 Million</td>\n",
       "    </tr>\n",
       "    <tr>\n",
       "      <th>49</th>\n",
       "      <td>Rolls-Royce Boat Tail*</td>\n",
       "      <td>13.4 Million</td>\n",
       "    </tr>\n",
       "    <tr>\n",
       "      <th>50</th>\n",
       "      <td>FAQs</td>\n",
       "      <td>28.0 Million (est.)</td>\n",
       "    </tr>\n",
       "  </tbody>\n",
       "</table>\n",
       "</div>"
      ],
      "text/plain": [
       "                           Car Name                Price\n",
       "0                     De Tomaso P72          1.3 Million\n",
       "1                 Ferrari LaFerrari          1.4 Million\n",
       "2                     Pagani Huayra          1.4 Million\n",
       "3                      McLaren Elva                     \n",
       "4                       Czinger 21C          1.7 Million\n",
       "5                     Ferrari Monza          1.7 Million\n",
       "6                Gordon Murray T.33          1.7 Million\n",
       "7                 Koenigsegg Gemera          1.7 Million\n",
       "8                       Zenvo TSR-S          1.7 Million\n",
       "9                Hennessey Venom F5          1.7 Million\n",
       "10                  Bentley Bacalar          1.8 Million\n",
       "11    Hispano Suiza Carmen Boulogne          1.9 Million\n",
       "12           Bentley Mulliner Batur          1.9 Million\n",
       "13                     Deus Vayanne          2.0 Million\n",
       "14                      SSC Tuatara          2.0 Million\n",
       "15                      Lotus Evija         2.0 Million*\n",
       "16              Aston Martin Vulcan          2.1 Million\n",
       "17                       Delage D12          2.3 Million\n",
       "18                McLaren Speedtail          2.3 Million\n",
       "19                     Rimac Nevera          2.3 Million\n",
       "20                    Pagani Utopia          2.4 Million\n",
       "21             Pininfarina Battista          2.5 Million\n",
       "22                Ferrari FXX K Evo          2.5 Million\n",
       "23               Gordon Murray T.50          2.6 Million\n",
       "24             Lamborghini Countach          2.6 Million\n",
       "25         Mercedes-AMG Project One          2.6 Million\n",
       "26              Aston Martin Victor          2.7 Million\n",
       "27      Hennessey Venom F5 Roadster          3.0 Million\n",
       "28                 Koenigsegg Jesko          3.0 Million\n",
       "29            Aston Martin Valkyrie          3.0 Million\n",
       "30        W Motors Lykan Hypersport          3.2 Million\n",
       "31                    McLaren Solus          3.4 Million\n",
       "32        Pagani Huayra Roadster BC          3.5 Million\n",
       "33         Bugatti Chiron Pur Sport          3.5 Million\n",
       "34                 Lamborghini Sian          3.6 Million\n",
       "35                 Koenigsegg CC850          3.6 million\n",
       "36  Bugatti Chiron Super Sport 300+          3.7 Million\n",
       "37               Lamborghini Veneno          3.9 Million\n",
       "38                   Bugatti Bolide          4.5 Million\n",
       "39                  Bugatti Mistral          4.7 Million\n",
       "40              Pagani Huayra Imola          5.0 Million\n",
       "41                     Bugatti Divo          5.4 Million\n",
       "42              SP Automotive Chaos          5.8 Million\n",
       "43                 Pagani Codalunga          6.4 Million\n",
       "44         Mercedes-Maybach Exelero          7.4 Million\n",
       "45               Bugatti Centodieci          8.0 Million\n",
       "46          Bugatti Chiron Profilée          9.0 Million\n",
       "47             Rolls-Royce Sweptail         10.8 Million\n",
       "48         Bugatti La Voiture Noire         12.8 Million\n",
       "49           Rolls-Royce Boat Tail*         13.4 Million\n",
       "50                             FAQs  28.0 Million (est.)"
      ]
     },
     "execution_count": 273,
     "metadata": {},
     "output_type": "execute_result"
    }
   ],
   "source": [
    "df=pd.DataFrame({\"Car Name\":Car,\"Price\":Price})\n",
    "print('\\033[1m'+'Most Expensive Cars in the world :'+'\\033[0m')\n",
    "df"
   ]
  },
  {
   "cell_type": "code",
   "execution_count": null,
   "id": "ed5ec416",
   "metadata": {},
   "outputs": [],
   "source": []
  }
 ],
 "metadata": {
  "kernelspec": {
   "display_name": "Python 3 (ipykernel)",
   "language": "python",
   "name": "python3"
  },
  "language_info": {
   "codemirror_mode": {
    "name": "ipython",
    "version": 3
   },
   "file_extension": ".py",
   "mimetype": "text/x-python",
   "name": "python",
   "nbconvert_exporter": "python",
   "pygments_lexer": "ipython3",
   "version": "3.10.9"
  }
 },
 "nbformat": 4,
 "nbformat_minor": 5
}
